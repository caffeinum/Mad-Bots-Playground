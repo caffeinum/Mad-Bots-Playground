{
 "cells": [
  {
   "cell_type": "code",
   "execution_count": 1,
   "metadata": {},
   "outputs": [],
   "source": [
    "token='808808157:AAFwhTmnHQ6hJXzp5fT0PyWusakOfdBnlWQ'\n",
    "import telebot\n",
    "from PIL import Image, ImageDraw, ImageFont\n",
    "from urllib.request import urlretrieve\n",
    "import os\n",
    "import random\n",
    "import telebot\n",
    "from telebot import apihelper\n",
    "from PIL import Image\n",
    "import cv2\n",
    "import numpy as np\n",
    "import requests\n",
    "session = requests.Session()\n",
    "i = 0\n",
    "\n",
    "def download_picture(text):\n",
    "    os.system('python downloader.py -s {} -o pics --limit 1'.format(text.replace(' ', '+')))\n",
    "    \n",
    "def put_into_pants(text):\n",
    "    download_picture(text)\n",
    "    text=text.upper()\n",
    "    print(text)\n",
    "    back = Image.open('jeans.png').resize((512,512))\n",
    "    # background = Image.new('RGBA', size=(512,512))\n",
    "    front = Image.open('pics/img.png', 'r').resize((160,160))\n",
    "    back.paste(front, (175,5))\n",
    "    # background.paste(back,(0,0))\n",
    "    fnt = ImageFont.truetype('/Library/Fonts/Impact.ttf', 30)\n",
    "    d = ImageDraw.Draw(back)\n",
    "    d.text((100,420), \"    {}\\n    У ТЕБЯ В ШТАНАХ\".format(text.upper()), font=fnt, fill=(0, 0, 0))\n",
    "    name = 'stickers/curr{}.png'.format(random.randint(0,400))\n",
    "    back.save('result.png', format='png')\n",
    "    os.system('rm -r pics/*')\n",
    "    \n",
    "def break_if_too_long(string, widthsize = 38):\n",
    "    if len(string) > widthsize*2:\n",
    "        string = string[:38]+'\\n         '+string[38:76]+'\\n         '+string[76:]\n",
    "        return string\n",
    "    if len(string) > widthsize:\n",
    "        string = string[:38]+'\\n         '+string[38:]\n",
    "    return string\n",
    "def cut_into_sticker(path):\n",
    "    basewidth = 512\n",
    "    img = Image.open(path)\n",
    "    wpercent = (basewidth/float(img.size[0]))\n",
    "    hsize = int((float(img.size[1])*float(wpercent)))\n",
    "    img = img.resize((basewidth,hsize), Image.ANTIALIAS)\n",
    "    if img.size[1] > 512:\n",
    "        img=img.crop((0,0,512,512))\n",
    "    print(img.size)\n",
    "    img.save(path) \n",
    "\n",
    "def delete_background(path):\n",
    "    print('running')\n",
    "    os.system('python3 /Users/n.zueva/Desktop/image-background-removal/seg.py \\\n",
    "    {} {} 1'.format(path, path))\n",
    "    \n",
    "bot = telebot.TeleBot(token)\n",
    "@bot.message_handler(content_types=[\"text\", \"photo\"])\n",
    "def handle(message, i=0): \n",
    "    # print(message)\n",
    "    try:\n",
    "        print('direct recieved')\n",
    "        i += 1\n",
    "        text = message.text.split(' ')[0]\n",
    "        \n",
    "        bot.send_photo(chat_id=message.chat.id, photo=open(name, 'rb'))\n",
    "    except:\n",
    "        try:\n",
    "            print('photo recieved')\n",
    "            file_path = bot.get_file(message.photo[1].file_id).file_path\n",
    "            link = 'https://api.telegram.org/file/bot{}/{}'.format(token, file_path)\n",
    "            tmp_name = '{}{}.png'.format('file_' + message.from_user.first_name,random.randint(24,42))\n",
    "            urlretrieve(link, tmp_name)\n",
    "            print('saved at {}'.format(tmp_name))\n",
    "            delete_background(tmp_name)\n",
    "            cut_into_sticker(tmp_name)\n",
    "            print('alalala')\n",
    "            bot.send_photo(chat_id=message.chat.id, photo=open(tmp_name, 'r'))\n",
    "        except:\n",
    "            try:\n",
    "                print('direct recieved')\n",
    "                i += 1\n",
    "                print('-'*80)\n",
    "                print(message.from_user)\n",
    "                text = message.text\n",
    "                put_into_pants(text)\n",
    "                bot.send_photo(chat_id=message.chat.id, photo=open('result.png', 'rb'))\n",
    "            except:\n",
    "                bot.send_message(chat_id=message.chat.id, text = 'я не буду конвертить это дерьмо')"
   ]
  },
  {
   "cell_type": "code",
   "execution_count": 2,
   "metadata": {},
   "outputs": [],
   "source": [
    "import requests\n",
    "session = requests.Session()"
   ]
  },
  {
   "cell_type": "code",
   "execution_count": 3,
   "metadata": {},
   "outputs": [],
   "source": [
    "def get_picture(text):\n",
    "    response = session.get(\n",
    "                'http://api.duckduckgo.com/',\n",
    "                params={\n",
    "                    'q': text,\n",
    "                    'format': 'json'\n",
    "                }\n",
    "            ).json()\n",
    "    image_url = response.get('Image')\n",
    "    urlretrieve(image_url, 'img.jpeg')"
   ]
  },
  {
   "cell_type": "code",
   "execution_count": 4,
   "metadata": {},
   "outputs": [],
   "source": [
    "get_picture('утка')"
   ]
  },
  {
   "cell_type": "code",
   "execution_count": null,
   "metadata": {},
   "outputs": [
    {
     "name": "stderr",
     "output_type": "stream",
     "text": [
      "2019-07-01 20:18:33,667 (util.py:65 PollingThread) ERROR - TeleBot: \"ApiException occurred, args=('A request to the Telegram API was unsuccessful. The server returned HTTP 409 Conflict. Response body:\\n[b\\'{\"ok\":false,\"error_code\":409,\"description\":\"Conflict: terminated by other getUpdates request; make sure that only one bot instance is running\"}\\']',)\n",
      "Traceback (most recent call last):\n",
      "  File \"/anaconda3/lib/python3.6/site-packages/telebot/util.py\", line 59, in run\n",
      "    task(*args, **kwargs)\n",
      "  File \"/anaconda3/lib/python3.6/site-packages/telebot/__init__.py\", line 276, in __retrieve_updates\n",
      "    updates = self.get_updates(offset=(self.last_update_id + 1), timeout=timeout)\n",
      "  File \"/anaconda3/lib/python3.6/site-packages/telebot/__init__.py\", line 246, in get_updates\n",
      "    json_updates = apihelper.get_updates(self.token, offset, limit, timeout, allowed_updates)\n",
      "  File \"/anaconda3/lib/python3.6/site-packages/telebot/apihelper.py\", line 180, in get_updates\n",
      "    return _make_request(token, method_url, params=payload)\n",
      "  File \"/anaconda3/lib/python3.6/site-packages/telebot/apihelper.py\", line 56, in _make_request\n",
      "    return _check_result(method_name, result)['result']\n",
      "  File \"/anaconda3/lib/python3.6/site-packages/telebot/apihelper.py\", line 75, in _check_result\n",
      "    raise ApiException(msg, method_name, result)\n",
      "telebot.apihelper.ApiException: A request to the Telegram API was unsuccessful. The server returned HTTP 409 Conflict. Response body:\n",
      "[b'{\"ok\":false,\"error_code\":409,\"description\":\"Conflict: terminated by other getUpdates request; make sure that only one bot instance is running\"}']\n",
      "\"\n",
      "2019-07-01 20:18:33,668 (__init__.py:417 MainThread) ERROR - TeleBot: \"A request to the Telegram API was unsuccessful. The server returned HTTP 409 Conflict. Response body:\n",
      "[b'{\"ok\":false,\"error_code\":409,\"description\":\"Conflict: terminated by other getUpdates request; make sure that only one bot instance is running\"}']\"\n",
      "2019-07-01 20:18:37,831 (util.py:65 PollingThread) ERROR - TeleBot: \"ApiException occurred, args=('A request to the Telegram API was unsuccessful. The server returned HTTP 409 Conflict. Response body:\\n[b\\'{\"ok\":false,\"error_code\":409,\"description\":\"Conflict: terminated by other getUpdates request; make sure that only one bot instance is running\"}\\']',)\n",
      "Traceback (most recent call last):\n",
      "  File \"/anaconda3/lib/python3.6/site-packages/telebot/util.py\", line 59, in run\n",
      "    task(*args, **kwargs)\n",
      "  File \"/anaconda3/lib/python3.6/site-packages/telebot/__init__.py\", line 276, in __retrieve_updates\n",
      "    updates = self.get_updates(offset=(self.last_update_id + 1), timeout=timeout)\n",
      "  File \"/anaconda3/lib/python3.6/site-packages/telebot/__init__.py\", line 246, in get_updates\n",
      "    json_updates = apihelper.get_updates(self.token, offset, limit, timeout, allowed_updates)\n",
      "  File \"/anaconda3/lib/python3.6/site-packages/telebot/apihelper.py\", line 180, in get_updates\n",
      "    return _make_request(token, method_url, params=payload)\n",
      "  File \"/anaconda3/lib/python3.6/site-packages/telebot/apihelper.py\", line 56, in _make_request\n",
      "    return _check_result(method_name, result)['result']\n",
      "  File \"/anaconda3/lib/python3.6/site-packages/telebot/apihelper.py\", line 75, in _check_result\n",
      "    raise ApiException(msg, method_name, result)\n",
      "telebot.apihelper.ApiException: A request to the Telegram API was unsuccessful. The server returned HTTP 409 Conflict. Response body:\n",
      "[b'{\"ok\":false,\"error_code\":409,\"description\":\"Conflict: terminated by other getUpdates request; make sure that only one bot instance is running\"}']\n",
      "\"\n",
      "2019-07-01 20:18:37,832 (__init__.py:417 MainThread) ERROR - TeleBot: \"A request to the Telegram API was unsuccessful. The server returned HTTP 409 Conflict. Response body:\n",
      "[b'{\"ok\":false,\"error_code\":409,\"description\":\"Conflict: terminated by other getUpdates request; make sure that only one bot instance is running\"}']\"\n",
      "2019-07-01 20:18:41,700 (util.py:65 PollingThread) ERROR - TeleBot: \"ApiException occurred, args=('A request to the Telegram API was unsuccessful. The server returned HTTP 409 Conflict. Response body:\\n[b\\'{\"ok\":false,\"error_code\":409,\"description\":\"Conflict: terminated by other getUpdates request; make sure that only one bot instance is running\"}\\']',)\n",
      "Traceback (most recent call last):\n",
      "  File \"/anaconda3/lib/python3.6/site-packages/telebot/util.py\", line 59, in run\n",
      "    task(*args, **kwargs)\n",
      "  File \"/anaconda3/lib/python3.6/site-packages/telebot/__init__.py\", line 276, in __retrieve_updates\n",
      "    updates = self.get_updates(offset=(self.last_update_id + 1), timeout=timeout)\n",
      "  File \"/anaconda3/lib/python3.6/site-packages/telebot/__init__.py\", line 246, in get_updates\n",
      "    json_updates = apihelper.get_updates(self.token, offset, limit, timeout, allowed_updates)\n",
      "  File \"/anaconda3/lib/python3.6/site-packages/telebot/apihelper.py\", line 180, in get_updates\n",
      "    return _make_request(token, method_url, params=payload)\n",
      "  File \"/anaconda3/lib/python3.6/site-packages/telebot/apihelper.py\", line 56, in _make_request\n",
      "    return _check_result(method_name, result)['result']\n",
      "  File \"/anaconda3/lib/python3.6/site-packages/telebot/apihelper.py\", line 75, in _check_result\n",
      "    raise ApiException(msg, method_name, result)\n",
      "telebot.apihelper.ApiException: A request to the Telegram API was unsuccessful. The server returned HTTP 409 Conflict. Response body:\n",
      "[b'{\"ok\":false,\"error_code\":409,\"description\":\"Conflict: terminated by other getUpdates request; make sure that only one bot instance is running\"}']\n",
      "\"\n",
      "2019-07-01 20:18:41,701 (__init__.py:417 MainThread) ERROR - TeleBot: \"A request to the Telegram API was unsuccessful. The server returned HTTP 409 Conflict. Response body:\n",
      "[b'{\"ok\":false,\"error_code\":409,\"description\":\"Conflict: terminated by other getUpdates request; make sure that only one bot instance is running\"}']\"\n",
      "2019-07-01 20:18:46,322 (util.py:65 PollingThread) ERROR - TeleBot: \"ApiException occurred, args=('A request to the Telegram API was unsuccessful. The server returned HTTP 409 Conflict. Response body:\\n[b\\'{\"ok\":false,\"error_code\":409,\"description\":\"Conflict: terminated by other getUpdates request; make sure that only one bot instance is running\"}\\']',)\n",
      "Traceback (most recent call last):\n",
      "  File \"/anaconda3/lib/python3.6/site-packages/telebot/util.py\", line 59, in run\n",
      "    task(*args, **kwargs)\n",
      "  File \"/anaconda3/lib/python3.6/site-packages/telebot/__init__.py\", line 276, in __retrieve_updates\n",
      "    updates = self.get_updates(offset=(self.last_update_id + 1), timeout=timeout)\n",
      "  File \"/anaconda3/lib/python3.6/site-packages/telebot/__init__.py\", line 246, in get_updates\n",
      "    json_updates = apihelper.get_updates(self.token, offset, limit, timeout, allowed_updates)\n",
      "  File \"/anaconda3/lib/python3.6/site-packages/telebot/apihelper.py\", line 180, in get_updates\n",
      "    return _make_request(token, method_url, params=payload)\n",
      "  File \"/anaconda3/lib/python3.6/site-packages/telebot/apihelper.py\", line 56, in _make_request\n",
      "    return _check_result(method_name, result)['result']\n",
      "  File \"/anaconda3/lib/python3.6/site-packages/telebot/apihelper.py\", line 75, in _check_result\n",
      "    raise ApiException(msg, method_name, result)\n",
      "telebot.apihelper.ApiException: A request to the Telegram API was unsuccessful. The server returned HTTP 409 Conflict. Response body:\n",
      "[b'{\"ok\":false,\"error_code\":409,\"description\":\"Conflict: terminated by other getUpdates request; make sure that only one bot instance is running\"}']\n",
      "\"\n",
      "2019-07-01 20:18:46,323 (__init__.py:417 MainThread) ERROR - TeleBot: \"A request to the Telegram API was unsuccessful. The server returned HTTP 409 Conflict. Response body:\n",
      "[b'{\"ok\":false,\"error_code\":409,\"description\":\"Conflict: terminated by other getUpdates request; make sure that only one bot instance is running\"}']\"\n",
      "2019-07-01 20:18:52,510 (util.py:65 PollingThread) ERROR - TeleBot: \"ApiException occurred, args=('A request to the Telegram API was unsuccessful. The server returned HTTP 409 Conflict. Response body:\\n[b\\'{\"ok\":false,\"error_code\":409,\"description\":\"Conflict: terminated by other getUpdates request; make sure that only one bot instance is running\"}\\']',)\n",
      "Traceback (most recent call last):\n",
      "  File \"/anaconda3/lib/python3.6/site-packages/telebot/util.py\", line 59, in run\n",
      "    task(*args, **kwargs)\n",
      "  File \"/anaconda3/lib/python3.6/site-packages/telebot/__init__.py\", line 276, in __retrieve_updates\n",
      "    updates = self.get_updates(offset=(self.last_update_id + 1), timeout=timeout)\n",
      "  File \"/anaconda3/lib/python3.6/site-packages/telebot/__init__.py\", line 246, in get_updates\n",
      "    json_updates = apihelper.get_updates(self.token, offset, limit, timeout, allowed_updates)\n",
      "  File \"/anaconda3/lib/python3.6/site-packages/telebot/apihelper.py\", line 180, in get_updates\n",
      "    return _make_request(token, method_url, params=payload)\n",
      "  File \"/anaconda3/lib/python3.6/site-packages/telebot/apihelper.py\", line 56, in _make_request\n",
      "    return _check_result(method_name, result)['result']\n",
      "  File \"/anaconda3/lib/python3.6/site-packages/telebot/apihelper.py\", line 75, in _check_result\n",
      "    raise ApiException(msg, method_name, result)\n",
      "telebot.apihelper.ApiException: A request to the Telegram API was unsuccessful. The server returned HTTP 409 Conflict. Response body:\n",
      "[b'{\"ok\":false,\"error_code\":409,\"description\":\"Conflict: terminated by other getUpdates request; make sure that only one bot instance is running\"}']\n",
      "\"\n"
     ]
    },
    {
     "name": "stderr",
     "output_type": "stream",
     "text": [
      "2019-07-01 20:18:52,511 (__init__.py:417 MainThread) ERROR - TeleBot: \"A request to the Telegram API was unsuccessful. The server returned HTTP 409 Conflict. Response body:\n",
      "[b'{\"ok\":false,\"error_code\":409,\"description\":\"Conflict: terminated by other getUpdates request; make sure that only one bot instance is running\"}']\"\n",
      "2019-07-01 20:19:01,947 (util.py:65 PollingThread) ERROR - TeleBot: \"ApiException occurred, args=('A request to the Telegram API was unsuccessful. The server returned HTTP 409 Conflict. Response body:\\n[b\\'{\"ok\":false,\"error_code\":409,\"description\":\"Conflict: terminated by other getUpdates request; make sure that only one bot instance is running\"}\\']',)\n",
      "Traceback (most recent call last):\n",
      "  File \"/anaconda3/lib/python3.6/site-packages/telebot/util.py\", line 59, in run\n",
      "    task(*args, **kwargs)\n",
      "  File \"/anaconda3/lib/python3.6/site-packages/telebot/__init__.py\", line 276, in __retrieve_updates\n",
      "    updates = self.get_updates(offset=(self.last_update_id + 1), timeout=timeout)\n",
      "  File \"/anaconda3/lib/python3.6/site-packages/telebot/__init__.py\", line 246, in get_updates\n",
      "    json_updates = apihelper.get_updates(self.token, offset, limit, timeout, allowed_updates)\n",
      "  File \"/anaconda3/lib/python3.6/site-packages/telebot/apihelper.py\", line 180, in get_updates\n",
      "    return _make_request(token, method_url, params=payload)\n",
      "  File \"/anaconda3/lib/python3.6/site-packages/telebot/apihelper.py\", line 56, in _make_request\n",
      "    return _check_result(method_name, result)['result']\n",
      "  File \"/anaconda3/lib/python3.6/site-packages/telebot/apihelper.py\", line 75, in _check_result\n",
      "    raise ApiException(msg, method_name, result)\n",
      "telebot.apihelper.ApiException: A request to the Telegram API was unsuccessful. The server returned HTTP 409 Conflict. Response body:\n",
      "[b'{\"ok\":false,\"error_code\":409,\"description\":\"Conflict: terminated by other getUpdates request; make sure that only one bot instance is running\"}']\n",
      "\"\n",
      "2019-07-01 20:19:01,948 (__init__.py:417 MainThread) ERROR - TeleBot: \"A request to the Telegram API was unsuccessful. The server returned HTTP 409 Conflict. Response body:\n",
      "[b'{\"ok\":false,\"error_code\":409,\"description\":\"Conflict: terminated by other getUpdates request; make sure that only one bot instance is running\"}']\"\n",
      "2019-07-01 20:19:14,093 (util.py:65 PollingThread) ERROR - TeleBot: \"ApiException occurred, args=('A request to the Telegram API was unsuccessful. The server returned HTTP 409 Conflict. Response body:\\n[b\\'{\"ok\":false,\"error_code\":409,\"description\":\"Conflict: terminated by other getUpdates request; make sure that only one bot instance is running\"}\\']',)\n",
      "Traceback (most recent call last):\n",
      "  File \"/anaconda3/lib/python3.6/site-packages/telebot/util.py\", line 59, in run\n",
      "    task(*args, **kwargs)\n",
      "  File \"/anaconda3/lib/python3.6/site-packages/telebot/__init__.py\", line 276, in __retrieve_updates\n",
      "    updates = self.get_updates(offset=(self.last_update_id + 1), timeout=timeout)\n",
      "  File \"/anaconda3/lib/python3.6/site-packages/telebot/__init__.py\", line 246, in get_updates\n",
      "    json_updates = apihelper.get_updates(self.token, offset, limit, timeout, allowed_updates)\n",
      "  File \"/anaconda3/lib/python3.6/site-packages/telebot/apihelper.py\", line 180, in get_updates\n",
      "    return _make_request(token, method_url, params=payload)\n",
      "  File \"/anaconda3/lib/python3.6/site-packages/telebot/apihelper.py\", line 56, in _make_request\n",
      "    return _check_result(method_name, result)['result']\n",
      "  File \"/anaconda3/lib/python3.6/site-packages/telebot/apihelper.py\", line 75, in _check_result\n",
      "    raise ApiException(msg, method_name, result)\n",
      "telebot.apihelper.ApiException: A request to the Telegram API was unsuccessful. The server returned HTTP 409 Conflict. Response body:\n",
      "[b'{\"ok\":false,\"error_code\":409,\"description\":\"Conflict: terminated by other getUpdates request; make sure that only one bot instance is running\"}']\n",
      "\"\n",
      "2019-07-01 20:19:14,097 (__init__.py:417 MainThread) ERROR - TeleBot: \"A request to the Telegram API was unsuccessful. The server returned HTTP 409 Conflict. Response body:\n",
      "[b'{\"ok\":false,\"error_code\":409,\"description\":\"Conflict: terminated by other getUpdates request; make sure that only one bot instance is running\"}']\"\n",
      "2019-07-01 20:19:38,397 (util.py:65 PollingThread) ERROR - TeleBot: \"ApiException occurred, args=('A request to the Telegram API was unsuccessful. The server returned HTTP 409 Conflict. Response body:\\n[b\\'{\"ok\":false,\"error_code\":409,\"description\":\"Conflict: terminated by other getUpdates request; make sure that only one bot instance is running\"}\\']',)\n",
      "Traceback (most recent call last):\n",
      "  File \"/anaconda3/lib/python3.6/site-packages/telebot/util.py\", line 59, in run\n",
      "    task(*args, **kwargs)\n",
      "  File \"/anaconda3/lib/python3.6/site-packages/telebot/__init__.py\", line 276, in __retrieve_updates\n",
      "    updates = self.get_updates(offset=(self.last_update_id + 1), timeout=timeout)\n",
      "  File \"/anaconda3/lib/python3.6/site-packages/telebot/__init__.py\", line 246, in get_updates\n",
      "    json_updates = apihelper.get_updates(self.token, offset, limit, timeout, allowed_updates)\n",
      "  File \"/anaconda3/lib/python3.6/site-packages/telebot/apihelper.py\", line 180, in get_updates\n",
      "    return _make_request(token, method_url, params=payload)\n",
      "  File \"/anaconda3/lib/python3.6/site-packages/telebot/apihelper.py\", line 56, in _make_request\n",
      "    return _check_result(method_name, result)['result']\n",
      "  File \"/anaconda3/lib/python3.6/site-packages/telebot/apihelper.py\", line 75, in _check_result\n",
      "    raise ApiException(msg, method_name, result)\n",
      "telebot.apihelper.ApiException: A request to the Telegram API was unsuccessful. The server returned HTTP 409 Conflict. Response body:\n",
      "[b'{\"ok\":false,\"error_code\":409,\"description\":\"Conflict: terminated by other getUpdates request; make sure that only one bot instance is running\"}']\n",
      "\"\n",
      "2019-07-01 20:19:38,398 (__init__.py:417 MainThread) ERROR - TeleBot: \"A request to the Telegram API was unsuccessful. The server returned HTTP 409 Conflict. Response body:\n",
      "[b'{\"ok\":false,\"error_code\":409,\"description\":\"Conflict: terminated by other getUpdates request; make sure that only one bot instance is running\"}']\"\n",
      "2019-07-01 20:20:26,554 (util.py:65 PollingThread) ERROR - TeleBot: \"ApiException occurred, args=('A request to the Telegram API was unsuccessful. The server returned HTTP 409 Conflict. Response body:\\n[b\\'{\"ok\":false,\"error_code\":409,\"description\":\"Conflict: terminated by other getUpdates request; make sure that only one bot instance is running\"}\\']',)\n",
      "Traceback (most recent call last):\n",
      "  File \"/anaconda3/lib/python3.6/site-packages/telebot/util.py\", line 59, in run\n",
      "    task(*args, **kwargs)\n",
      "  File \"/anaconda3/lib/python3.6/site-packages/telebot/__init__.py\", line 276, in __retrieve_updates\n",
      "    updates = self.get_updates(offset=(self.last_update_id + 1), timeout=timeout)\n",
      "  File \"/anaconda3/lib/python3.6/site-packages/telebot/__init__.py\", line 246, in get_updates\n",
      "    json_updates = apihelper.get_updates(self.token, offset, limit, timeout, allowed_updates)\n",
      "  File \"/anaconda3/lib/python3.6/site-packages/telebot/apihelper.py\", line 180, in get_updates\n",
      "    return _make_request(token, method_url, params=payload)\n",
      "  File \"/anaconda3/lib/python3.6/site-packages/telebot/apihelper.py\", line 56, in _make_request\n",
      "    return _check_result(method_name, result)['result']\n",
      "  File \"/anaconda3/lib/python3.6/site-packages/telebot/apihelper.py\", line 75, in _check_result\n",
      "    raise ApiException(msg, method_name, result)\n",
      "telebot.apihelper.ApiException: A request to the Telegram API was unsuccessful. The server returned HTTP 409 Conflict. Response body:\n",
      "[b'{\"ok\":false,\"error_code\":409,\"description\":\"Conflict: terminated by other getUpdates request; make sure that only one bot instance is running\"}']\n",
      "\"\n",
      "2019-07-01 20:20:26,555 (__init__.py:417 MainThread) ERROR - TeleBot: \"A request to the Telegram API was unsuccessful. The server returned HTTP 409 Conflict. Response body:\n",
      "[b'{\"ok\":false,\"error_code\":409,\"description\":\"Conflict: terminated by other getUpdates request; make sure that only one bot instance is running\"}']\"\n",
      "2019-07-01 20:21:33,993 (util.py:65 PollingThread) ERROR - TeleBot: \"ApiException occurred, args=('A request to the Telegram API was unsuccessful. The server returned HTTP 409 Conflict. Response body:\\n[b\\'{\"ok\":false,\"error_code\":409,\"description\":\"Conflict: terminated by other getUpdates request; make sure that only one bot instance is running\"}\\']',)\n",
      "Traceback (most recent call last):\n",
      "  File \"/anaconda3/lib/python3.6/site-packages/telebot/util.py\", line 59, in run\n",
      "    task(*args, **kwargs)\n",
      "  File \"/anaconda3/lib/python3.6/site-packages/telebot/__init__.py\", line 276, in __retrieve_updates\n",
      "    updates = self.get_updates(offset=(self.last_update_id + 1), timeout=timeout)\n",
      "  File \"/anaconda3/lib/python3.6/site-packages/telebot/__init__.py\", line 246, in get_updates\n",
      "    json_updates = apihelper.get_updates(self.token, offset, limit, timeout, allowed_updates)\n",
      "  File \"/anaconda3/lib/python3.6/site-packages/telebot/apihelper.py\", line 180, in get_updates\n",
      "    return _make_request(token, method_url, params=payload)\n",
      "  File \"/anaconda3/lib/python3.6/site-packages/telebot/apihelper.py\", line 56, in _make_request\n",
      "    return _check_result(method_name, result)['result']\n",
      "  File \"/anaconda3/lib/python3.6/site-packages/telebot/apihelper.py\", line 75, in _check_result\n",
      "    raise ApiException(msg, method_name, result)\n",
      "telebot.apihelper.ApiException: A request to the Telegram API was unsuccessful. The server returned HTTP 409 Conflict. Response body:\n",
      "[b'{\"ok\":false,\"error_code\":409,\"description\":\"Conflict: terminated by other getUpdates request; make sure that only one bot instance is running\"}']\n",
      "\"\n"
     ]
    },
    {
     "name": "stderr",
     "output_type": "stream",
     "text": [
      "2019-07-01 20:21:33,994 (__init__.py:417 MainThread) ERROR - TeleBot: \"A request to the Telegram API was unsuccessful. The server returned HTTP 409 Conflict. Response body:\n",
      "[b'{\"ok\":false,\"error_code\":409,\"description\":\"Conflict: terminated by other getUpdates request; make sure that only one bot instance is running\"}']\"\n"
     ]
    }
   ],
   "source": [
    "if __name__ == '__main__':\n",
    "    bot.polling(none_stop=True,  timeout=123)"
   ]
  },
  {
   "cell_type": "code",
   "execution_count": 134,
   "metadata": {},
   "outputs": [
    {
     "name": "stdout",
     "output_type": "stream",
     "text": [
      "УТКА\n"
     ]
    }
   ],
   "source": [
    "put_into_pants('утка')"
   ]
  },
  {
   "cell_type": "code",
   "execution_count": 6,
   "metadata": {},
   "outputs": [
    {
     "ename": "TypeError",
     "evalue": "must be str, not int",
     "output_type": "error",
     "traceback": [
      "\u001b[0;31m---------------------------------------------------------------------------\u001b[0m",
      "\u001b[0;31mTypeError\u001b[0m                                 Traceback (most recent call last)",
      "\u001b[0;32m<ipython-input-6-9a4a5af4d485>\u001b[0m in \u001b[0;36m<module>\u001b[0;34m\u001b[0m\n\u001b[1;32m      5\u001b[0m \u001b[0msearchTerm\u001b[0m \u001b[0;34m=\u001b[0m \u001b[0;34m'parrot'\u001b[0m\u001b[0;34m\u001b[0m\u001b[0;34m\u001b[0m\u001b[0m\n\u001b[1;32m      6\u001b[0m \u001b[0mstartIndex\u001b[0m \u001b[0;34m=\u001b[0m \u001b[0;36m0\u001b[0m\u001b[0;34m\u001b[0m\u001b[0;34m\u001b[0m\u001b[0m\n\u001b[0;32m----> 7\u001b[0;31m \u001b[0msearchUrl\u001b[0m \u001b[0;34m=\u001b[0m \u001b[0;34m\"http://ajax.googleapis.com/ajax/services/search/images?v=1.0&q=\"\u001b[0m \u001b[0;34m+\u001b[0m \u001b[0msearchTerm\u001b[0m \u001b[0;34m+\u001b[0m \u001b[0;34m\"&start=\"\u001b[0m \u001b[0;34m+\u001b[0m \u001b[0mstartIndex\u001b[0m\u001b[0;34m\u001b[0m\u001b[0;34m\u001b[0m\u001b[0m\n\u001b[0m\u001b[1;32m      8\u001b[0m \u001b[0mf\u001b[0m \u001b[0;34m=\u001b[0m \u001b[0mfetcher\u001b[0m\u001b[0;34m.\u001b[0m\u001b[0mopen\u001b[0m\u001b[0;34m(\u001b[0m\u001b[0msearchUrl\u001b[0m\u001b[0;34m)\u001b[0m\u001b[0;34m\u001b[0m\u001b[0;34m\u001b[0m\u001b[0m\n\u001b[1;32m      9\u001b[0m \u001b[0mdeserialized_output\u001b[0m \u001b[0;34m=\u001b[0m \u001b[0msimplejson\u001b[0m\u001b[0;34m.\u001b[0m\u001b[0mload\u001b[0m\u001b[0;34m(\u001b[0m\u001b[0mf\u001b[0m\u001b[0;34m)\u001b[0m\u001b[0;34m\u001b[0m\u001b[0;34m\u001b[0m\u001b[0m\n",
      "\u001b[0;31mTypeError\u001b[0m: must be str, not int"
     ]
    }
   ],
   "source": [
    "import urllib.request\n",
    "import simplejson\n",
    "\n",
    "fetcher = urllib.request.build_opener()\n",
    "searchTerm = 'parrot'\n",
    "startIndex = 0\n",
    "searchUrl = \"http://ajax.googleapis.com/ajax/services/search/images?v=1.0&q=\" + searchTerm + \"&start=\" + startIndex\n",
    "f = fetcher.open(searchUrl)\n",
    "deserialized_output = simplejson.load(f)"
   ]
  },
  {
   "cell_type": "code",
   "execution_count": 10,
   "metadata": {},
   "outputs": [
    {
     "ename": "WebDriverException",
     "evalue": "Message: 'chromedriver.exe' executable needs to be in PATH. Please see https://sites.google.com/a/chromium.org/chromedriver/home\n",
     "output_type": "error",
     "traceback": [
      "\u001b[0;31m---------------------------------------------------------------------------\u001b[0m",
      "\u001b[0;31mFileNotFoundError\u001b[0m                         Traceback (most recent call last)",
      "\u001b[0;32m/anaconda3/lib/python3.6/site-packages/selenium/webdriver/common/service.py\u001b[0m in \u001b[0;36mstart\u001b[0;34m(self)\u001b[0m\n\u001b[1;32m     75\u001b[0m                                             \u001b[0mstderr\u001b[0m\u001b[0;34m=\u001b[0m\u001b[0mself\u001b[0m\u001b[0;34m.\u001b[0m\u001b[0mlog_file\u001b[0m\u001b[0;34m,\u001b[0m\u001b[0;34m\u001b[0m\u001b[0;34m\u001b[0m\u001b[0m\n\u001b[0;32m---> 76\u001b[0;31m                                             stdin=PIPE)\n\u001b[0m\u001b[1;32m     77\u001b[0m         \u001b[0;32mexcept\u001b[0m \u001b[0mTypeError\u001b[0m\u001b[0;34m:\u001b[0m\u001b[0;34m\u001b[0m\u001b[0;34m\u001b[0m\u001b[0m\n",
      "\u001b[0;32m/anaconda3/lib/python3.6/subprocess.py\u001b[0m in \u001b[0;36m__init__\u001b[0;34m(self, args, bufsize, executable, stdin, stdout, stderr, preexec_fn, close_fds, shell, cwd, env, universal_newlines, startupinfo, creationflags, restore_signals, start_new_session, pass_fds, encoding, errors)\u001b[0m\n\u001b[1;32m    728\u001b[0m                                 \u001b[0merrread\u001b[0m\u001b[0;34m,\u001b[0m \u001b[0merrwrite\u001b[0m\u001b[0;34m,\u001b[0m\u001b[0;34m\u001b[0m\u001b[0;34m\u001b[0m\u001b[0m\n\u001b[0;32m--> 729\u001b[0;31m                                 restore_signals, start_new_session)\n\u001b[0m\u001b[1;32m    730\u001b[0m         \u001b[0;32mexcept\u001b[0m\u001b[0;34m:\u001b[0m\u001b[0;34m\u001b[0m\u001b[0;34m\u001b[0m\u001b[0m\n",
      "\u001b[0;32m/anaconda3/lib/python3.6/subprocess.py\u001b[0m in \u001b[0;36m_execute_child\u001b[0;34m(self, args, executable, preexec_fn, close_fds, pass_fds, cwd, env, startupinfo, creationflags, shell, p2cread, p2cwrite, c2pread, c2pwrite, errread, errwrite, restore_signals, start_new_session)\u001b[0m\n\u001b[1;32m   1363\u001b[0m                             \u001b[0merr_msg\u001b[0m \u001b[0;34m+=\u001b[0m \u001b[0;34m': '\u001b[0m \u001b[0;34m+\u001b[0m \u001b[0mrepr\u001b[0m\u001b[0;34m(\u001b[0m\u001b[0merr_filename\u001b[0m\u001b[0;34m)\u001b[0m\u001b[0;34m\u001b[0m\u001b[0;34m\u001b[0m\u001b[0m\n\u001b[0;32m-> 1364\u001b[0;31m                     \u001b[0;32mraise\u001b[0m \u001b[0mchild_exception_type\u001b[0m\u001b[0;34m(\u001b[0m\u001b[0merrno_num\u001b[0m\u001b[0;34m,\u001b[0m \u001b[0merr_msg\u001b[0m\u001b[0;34m,\u001b[0m \u001b[0merr_filename\u001b[0m\u001b[0;34m)\u001b[0m\u001b[0;34m\u001b[0m\u001b[0;34m\u001b[0m\u001b[0m\n\u001b[0m\u001b[1;32m   1365\u001b[0m                 \u001b[0;32mraise\u001b[0m \u001b[0mchild_exception_type\u001b[0m\u001b[0;34m(\u001b[0m\u001b[0merr_msg\u001b[0m\u001b[0;34m)\u001b[0m\u001b[0;34m\u001b[0m\u001b[0;34m\u001b[0m\u001b[0m\n",
      "\u001b[0;31mFileNotFoundError\u001b[0m: [Errno 2] No such file or directory: 'C:/Python35/Scripts/chromedriver.exe': 'C:/Python35/Scripts/chromedriver.exe'",
      "\nDuring handling of the above exception, another exception occurred:\n",
      "\u001b[0;31mWebDriverException\u001b[0m                        Traceback (most recent call last)",
      "\u001b[0;32m<ipython-input-10-8ac133e1f3b4>\u001b[0m in \u001b[0;36m<module>\u001b[0;34m\u001b[0m\n\u001b[1;32m      2\u001b[0m \u001b[0;32mimport\u001b[0m \u001b[0murllib\u001b[0m\u001b[0;34m\u001b[0m\u001b[0;34m\u001b[0m\u001b[0m\n\u001b[1;32m      3\u001b[0m \u001b[0;32mfrom\u001b[0m \u001b[0mselenium\u001b[0m\u001b[0;34m.\u001b[0m\u001b[0mwebdriver\u001b[0m\u001b[0;34m.\u001b[0m\u001b[0mcommon\u001b[0m\u001b[0;34m.\u001b[0m\u001b[0mkeys\u001b[0m \u001b[0;32mimport\u001b[0m \u001b[0mKeys\u001b[0m\u001b[0;34m\u001b[0m\u001b[0;34m\u001b[0m\u001b[0m\n\u001b[0;32m----> 4\u001b[0;31m \u001b[0mdriver\u001b[0m \u001b[0;34m=\u001b[0m \u001b[0mwebdriver\u001b[0m\u001b[0;34m.\u001b[0m\u001b[0mChrome\u001b[0m\u001b[0;34m(\u001b[0m\u001b[0;34m'C:/Python35/Scripts/chromedriver.exe'\u001b[0m\u001b[0;34m)\u001b[0m\u001b[0;34m\u001b[0m\u001b[0;34m\u001b[0m\u001b[0m\n\u001b[0m\u001b[1;32m      5\u001b[0m \u001b[0mword\u001b[0m\u001b[0;34m=\u001b[0m\u001b[0;34m\"apple\"\u001b[0m\u001b[0;34m\u001b[0m\u001b[0;34m\u001b[0m\u001b[0m\n\u001b[1;32m      6\u001b[0m \u001b[0murl\u001b[0m\u001b[0;34m=\u001b[0m\u001b[0;34m\"http://images.google.com/search?q=\"\u001b[0m\u001b[0;34m+\u001b[0m\u001b[0mword\u001b[0m\u001b[0;34m+\u001b[0m\u001b[0;34m\"&tbm=isch&sout=1\"\u001b[0m\u001b[0;34m\u001b[0m\u001b[0;34m\u001b[0m\u001b[0m\n",
      "\u001b[0;32m/anaconda3/lib/python3.6/site-packages/selenium/webdriver/chrome/webdriver.py\u001b[0m in \u001b[0;36m__init__\u001b[0;34m(self, executable_path, port, options, service_args, desired_capabilities, service_log_path, chrome_options, keep_alive)\u001b[0m\n\u001b[1;32m     71\u001b[0m             \u001b[0mservice_args\u001b[0m\u001b[0;34m=\u001b[0m\u001b[0mservice_args\u001b[0m\u001b[0;34m,\u001b[0m\u001b[0;34m\u001b[0m\u001b[0;34m\u001b[0m\u001b[0m\n\u001b[1;32m     72\u001b[0m             log_path=service_log_path)\n\u001b[0;32m---> 73\u001b[0;31m         \u001b[0mself\u001b[0m\u001b[0;34m.\u001b[0m\u001b[0mservice\u001b[0m\u001b[0;34m.\u001b[0m\u001b[0mstart\u001b[0m\u001b[0;34m(\u001b[0m\u001b[0;34m)\u001b[0m\u001b[0;34m\u001b[0m\u001b[0;34m\u001b[0m\u001b[0m\n\u001b[0m\u001b[1;32m     74\u001b[0m \u001b[0;34m\u001b[0m\u001b[0m\n\u001b[1;32m     75\u001b[0m         \u001b[0;32mtry\u001b[0m\u001b[0;34m:\u001b[0m\u001b[0;34m\u001b[0m\u001b[0;34m\u001b[0m\u001b[0m\n",
      "\u001b[0;32m/anaconda3/lib/python3.6/site-packages/selenium/webdriver/common/service.py\u001b[0m in \u001b[0;36mstart\u001b[0;34m(self)\u001b[0m\n\u001b[1;32m     81\u001b[0m                 raise WebDriverException(\n\u001b[1;32m     82\u001b[0m                     \"'%s' executable needs to be in PATH. %s\" % (\n\u001b[0;32m---> 83\u001b[0;31m                         os.path.basename(self.path), self.start_error_message)\n\u001b[0m\u001b[1;32m     84\u001b[0m                 )\n\u001b[1;32m     85\u001b[0m             \u001b[0;32melif\u001b[0m \u001b[0merr\u001b[0m\u001b[0;34m.\u001b[0m\u001b[0merrno\u001b[0m \u001b[0;34m==\u001b[0m \u001b[0merrno\u001b[0m\u001b[0;34m.\u001b[0m\u001b[0mEACCES\u001b[0m\u001b[0;34m:\u001b[0m\u001b[0;34m\u001b[0m\u001b[0;34m\u001b[0m\u001b[0m\n",
      "\u001b[0;31mWebDriverException\u001b[0m: Message: 'chromedriver.exe' executable needs to be in PATH. Please see https://sites.google.com/a/chromium.org/chromedriver/home\n"
     ]
    }
   ],
   "source": [
    "from selenium import webdriver\n",
    "import urllib\n",
    "from selenium.webdriver.common.keys import Keys\n",
    "driver = webdriver.Chrome('C:/Python35/Scripts/chromedriver.exe')\n",
    "word=\"apple\"\n",
    "url=\"http://images.google.com/search?q=\"+word+\"&tbm=isch&sout=1\"\n",
    "driver.get(url)\n",
    "imageXpathSelector='//*[@id=\"ires\"]/table/tbody/tr[1]/td[1]/a/img'\n",
    "img=driver.find_element_by_xpath(imageXpathSelector)\n",
    "src=(img.get_attribute('src'))\n",
    "urllib.urlretrieve(src, word+\".jpg\")\n",
    "driver.close()"
   ]
  },
  {
   "cell_type": "code",
   "execution_count": 8,
   "metadata": {},
   "outputs": [
    {
     "name": "stdout",
     "output_type": "stream",
     "text": [
      "Collecting selenium\n",
      "\u001b[?25l  Downloading https://files.pythonhosted.org/packages/80/d6/4294f0b4bce4de0abf13e17190289f9d0613b0a44e5dd6a7f5ca98459853/selenium-3.141.0-py2.py3-none-any.whl (904kB)\n",
      "\u001b[K    100% |████████████████████████████████| 911kB 6.9MB/s ta 0:00:01\n",
      "\u001b[?25hRequirement already satisfied: urllib3 in /anaconda3/lib/python3.6/site-packages (from selenium) (1.22)\n",
      "Installing collected packages: selenium\n",
      "Successfully installed selenium-3.141.0\n"
     ]
    }
   ],
   "source": [
    "!pip install selenium\n"
   ]
  },
  {
   "cell_type": "code",
   "execution_count": 23,
   "metadata": {},
   "outputs": [
    {
     "data": {
      "text/plain": [
       "0"
      ]
     },
     "execution_count": 23,
     "metadata": {},
     "output_type": "execute_result"
    }
   ],
   "source": [
    "import downloader\n",
    "import os\n",
    "def download_picture(text):\n",
    "    os.system('python downloader.py -s {} -o pics --limit 1'.format(text.replace(' ', '+')))"
   ]
  },
  {
   "cell_type": "code",
   "execution_count": 20,
   "metadata": {},
   "outputs": [
    {
     "data": {
      "text/plain": [
       "{'responseData': None,\n",
       " 'responseDetails': 'This API is no longer available.',\n",
       " 'responseStatus': 403}"
      ]
     },
     "execution_count": 20,
     "metadata": {},
     "output_type": "execute_result"
    }
   ],
   "source": [
    "deserialized_output"
   ]
  },
  {
   "cell_type": "code",
   "execution_count": 16,
   "metadata": {},
   "outputs": [
    {
     "ename": "TypeError",
     "evalue": "'NoneType' object is not subscriptable",
     "output_type": "error",
     "traceback": [
      "\u001b[0;31m---------------------------------------------------------------------------\u001b[0m",
      "\u001b[0;31mTypeError\u001b[0m                                 Traceback (most recent call last)",
      "\u001b[0;32m<ipython-input-16-63ef5219c90f>\u001b[0m in \u001b[0;36m<module>\u001b[0;34m\u001b[0m\n\u001b[0;32m----> 1\u001b[0;31m \u001b[0mimageUrl\u001b[0m \u001b[0;34m=\u001b[0m \u001b[0mdeserialized_output\u001b[0m\u001b[0;34m[\u001b[0m\u001b[0;34m'responseData'\u001b[0m\u001b[0;34m]\u001b[0m\u001b[0;34m[\u001b[0m\u001b[0;34m'results'\u001b[0m\u001b[0;34m]\u001b[0m\u001b[0;34m[\u001b[0m\u001b[0;36m0\u001b[0m\u001b[0;34m]\u001b[0m\u001b[0;34m[\u001b[0m\u001b[0;34m'unescapedUrl'\u001b[0m\u001b[0;34m]\u001b[0m\u001b[0;34m\u001b[0m\u001b[0;34m\u001b[0m\u001b[0m\n\u001b[0m\u001b[1;32m      2\u001b[0m \u001b[0mfile\u001b[0m \u001b[0;34m=\u001b[0m \u001b[0murllib\u001b[0m\u001b[0;34m.\u001b[0m\u001b[0murlopen\u001b[0m\u001b[0;34m(\u001b[0m\u001b[0mimageUrl\u001b[0m\u001b[0;34m)\u001b[0m\u001b[0;34m.\u001b[0m\u001b[0mread\u001b[0m\u001b[0;34m(\u001b[0m\u001b[0;34m)\u001b[0m\u001b[0;34m\u001b[0m\u001b[0;34m\u001b[0m\u001b[0m\n\u001b[1;32m      3\u001b[0m \u001b[0mimg\u001b[0m \u001b[0;34m=\u001b[0m \u001b[0mImage\u001b[0m\u001b[0;34m.\u001b[0m\u001b[0mopen\u001b[0m\u001b[0;34m(\u001b[0m\u001b[0mfile\u001b[0m\u001b[0;34m)\u001b[0m\u001b[0;34m\u001b[0m\u001b[0;34m\u001b[0m\u001b[0m\n",
      "\u001b[0;31mTypeError\u001b[0m: 'NoneType' object is not subscriptable"
     ]
    }
   ],
   "source": [
    "imageUrl = deserialized_output['responseData']['results'][0]['unescapedUrl']\n",
    "file = StringIO(urllib.urlopen(imageUrl).read())\n",
    "img = Image.open(file)"
   ]
  },
  {
   "cell_type": "code",
   "execution_count": 23,
   "metadata": {},
   "outputs": [],
   "source": [
    "from io import StringIO"
   ]
  },
  {
   "cell_type": "code",
   "execution_count": 79,
   "metadata": {},
   "outputs": [],
   "source": [
    "def put_into_pants(text):\n",
    "    download_picture(text)\n",
    "    text=text.upper()\n",
    "    print(text)\n",
    "    back = Image.open('jeans.png').resize((512,512))\n",
    "    # background = Image.new('RGBA', size=(512,512))\n",
    "    front = Image.open('pics/img.png', 'r').resize((160,160))\n",
    "    back.paste(front, (175,5))\n",
    "    # background.paste(back,(0,0))\n",
    "    fnt = ImageFont.truetype('/Library/Fonts/Impact.ttf', 30)\n",
    "    d = ImageDraw.Draw(back)\n",
    "    d.text((100,420), \"    {}\\n    У ТЕБЯ В ШТАНАХ\".format(text.upper()), font=fnt, fill=(0, 0, 0))\n",
    "    name = 'stickers/curr{}.png'.format(random.randint(0,400))\n",
    "    back.save('result.png', format='png')\n",
    "    os.system('rm -r pics/*')"
   ]
  },
  {
   "cell_type": "code",
   "execution_count": 80,
   "metadata": {},
   "outputs": [
    {
     "name": "stdout",
     "output_type": "stream",
     "text": [
      "СИНИЙ КИТ\n"
     ]
    }
   ],
   "source": [
    "put_into_pants('синий кит')"
   ]
  },
  {
   "cell_type": "code",
   "execution_count": null,
   "metadata": {},
   "outputs": [],
   "source": []
  }
 ],
 "metadata": {
  "kernelspec": {
   "display_name": "Python 3",
   "language": "python",
   "name": "python3"
  },
  "language_info": {
   "codemirror_mode": {
    "name": "ipython",
    "version": 3
   },
   "file_extension": ".py",
   "mimetype": "text/x-python",
   "name": "python",
   "nbconvert_exporter": "python",
   "pygments_lexer": "ipython3",
   "version": "3.6.8"
  }
 },
 "nbformat": 4,
 "nbformat_minor": 2
}
